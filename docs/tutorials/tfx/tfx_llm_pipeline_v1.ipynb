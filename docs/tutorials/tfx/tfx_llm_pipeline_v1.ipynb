{
  "nbformat": 4,
  "nbformat_minor": 0,
  "metadata": {
    "colab": {
      "provenance": [],
      "toc_visible": true
    },
    "kernelspec": {
      "name": "python3",
      "display_name": "Python 3"
    },
    "language_info": {
      "name": "python"
    }
  },
  "cells": [
    {
      "cell_type": "markdown",
      "metadata": {
        "id": "YtDTm6wbIbpy"
      },
      "source": [
        "Copyright 2023 The TensorFlow Authors."
      ]
    },
    {
      "cell_type": "code",
      "execution_count": null,
      "metadata": {
        "id": "kBFkQLk1In7I"
      },
      "outputs": [],
      "source": [
        "# Licensed under the Apache License, Version 2.0 (the \"License\");\n",
        "# you may not use this file except in compliance with the License.\n",
        "# You may obtain a copy of the License at\n",
        "#\n",
        "# https://www.apache.org/licenses/LICENSE-2.0\n",
        "#\n",
        "# Unless required by applicable law or agreed to in writing, software\n",
        "# distributed under the License is distributed on an \"AS IS\" BASIS,\n",
        "# WITHOUT WARRANTIES OR CONDITIONS OF ANY KIND, either express or implied.\n",
        "# See the License for the specific language governing permissions and\n",
        "# limitations under the License."
      ]
    },
    {
      "cell_type": "markdown",
      "metadata": {
        "id": "HU9YYythm0dx"
      },
      "source": [
        "Note: We recommend running this tutorial in a Colab notebook, with no setup required!  Just click \"Run in Google Colab\".\n",
        "\n",
        "<div class=\"devsite-table-wrapper\"><table class=\"tfo-notebook-buttons\" align=\"left\">\n",
        "<td><a target=\"_blank\" href=\"https://www.tensorflow.org/tfx/tutorials/tfx/penguin_simple\">\n",
        "<img src=\"https://www.tensorflow.org/images/tf_logo_32px.png\"/>View on TensorFlow.org</a></td>\n",
        "<td><a target=\"_blank\" href=\"https://colab.research.google.com/github/tensorflow/tfx/blob/master/docs/tutorials/tfx/penguin_simple.ipynb\">\n",
        "<img src=\"https://www.tensorflow.org/images/colab_logo_32px.png\">Run in Google Colab</a></td>\n",
        "<td><a target=\"_blank\" href=\"https://github.com/tensorflow/tfx/tree/master/docs/tutorials/tfx/penguin_simple.ipynb\">\n",
        "<img width=32px src=\"https://www.tensorflow.org/images/GitHub-Mark-32px.png\">View source on GitHub</a></td>\n",
        "<td><a href=\"https://storage.googleapis.com/tensorflow_docs/tfx/docs/tutorials/tfx/penguin_simple.ipynb\"><img src=\"https://www.tensorflow.org/images/download_logo_32px.png\" />Download notebook</a></td>\n",
        "</table></div>"
      ]
    },
    {
      "cell_type": "markdown",
      "metadata": {
        "id": "uf3QpfdiIl7O"
      },
      "source": [
        "# TFX Pipeline for Fine-Tuning and Converting an Large Language Model (LLM)\n",
        "\n",
        "\n",
        "In this codelab, we use  KerasNLP to load a pre-trained Large Language Model (LLM) - GPT-2 model and finetune it to the Multi-News dataset. The dataset that is used in this demo is [Multi-News dataset](https://www.tensorflow.org/datasets/catalog/multi_news). After producing a finetuned model, the pipeline converts the model into a TFLite model, a format that can run on mobile devices, and a quantized TFLite model, which is a more efficient version of a TFLite model that represents the model's weights and activations using fewer bits.\n",
        "\n",
        "## Why is this pipeline useful?\n",
        "TFX pipelines are valuable tools for building and managing machine learning workflows in a production environment. They are more reproducible, scalable, and modular than simply running pure Python code. This makes them ideal for working with large language models, which require many complex steps that can be difficult to organize. TFX pipelines can also help you automate the finetuning and conversion process, which can save you a lot of time and effort.  \n",
        "\n",
        "In addition, TFX pipelines can also help you track the lineage of your data and models using metadata. This means that you can easily see how your data and models were created and how they relate to each other. This can be helpful for debugging, auditing, and understanding the performance of your models.\n",
        "\n",
        "## Note\n",
        "*Note that GPT-2 is used here only to demonstrate the end-to-end process; the techniques and tooling introduced in this codelab are potentially transferrable to other generative language models such as Google T5.*"
      ]
    },
    {
      "cell_type": "markdown",
      "metadata": {
        "id": "2WgJ8Z8gJB0s"
      },
      "source": [
        "# Before You Begin\n",
        "\n",
        "Colab offers different kinds of runtimes. Make sure to go to **Runtime -> Change runtime** type and choose the GPU Hardware Accelerator runtime since you will finetune the GPT-2 model. **This tutorial needs minimum 40GB of A100 GPU for execution. GPUs with less memory may result in GPU going OOM.**"
      ]
    },
    {
      "cell_type": "markdown",
      "metadata": {
        "id": "-sj3HvNcJEgC"
      },
      "source": [
        "# Set Up\n",
        "\n",
        "We first install required python packages."
      ]
    },
    {
      "cell_type": "markdown",
      "metadata": {
        "id": "73c9sPckJFSi"
      },
      "source": [
        "## Upgrade Pip\n",
        "To avoid upgrading Pip in a system when running locally, check to make sure that we are running in Colab. Local systems can of course be upgraded separately."
      ]
    },
    {
      "cell_type": "code",
      "execution_count": null,
      "metadata": {
        "id": "45pIxa6afWOf",
        "tags": []
      },
      "outputs": [],
      "source": [
        "try:\n",
        "  import colab\n",
        "  !pip install --upgrade pip\n",
        "\n",
        "except:\n",
        "  pass"
      ]
    },
    {
      "cell_type": "markdown",
      "metadata": {
        "id": "yIf40NdqJLAH"
      },
      "source": [
        "## Install TFX, KerasNLP and required Libraries"
      ]
    },
    {
      "cell_type": "code",
      "execution_count": null,
      "metadata": {
        "id": "A6mBN4dzfct7",
        "tags": []
      },
      "outputs": [],
      "source": [
        "!pip install -q git+https://github.com/keras-team/keras-nlp.git@google-io-2023\\\n",
        "tfx tensorflow-text more_itertools tensorflow_datasets"
      ]
    },
    {
      "cell_type": "markdown",
      "metadata": {
        "id": "UjcN5nixJVUW"
      },
      "source": [
        "## Install \"shapely<2\"\n",
        "\n",
        "This is a temporal solution to avoid an ImportError.\n"
      ]
    },
    {
      "cell_type": "code",
      "execution_count": null,
      "metadata": {
        "id": "BFucUjUmfm3z",
        "tags": []
      },
      "outputs": [],
      "source": [
        "!pip install -U google-cloud-aiplatform \"shapely<2\" -q"
      ]
    },
    {
      "cell_type": "markdown",
      "metadata": {
        "id": "V0tnFDm6JRq_",
        "tags": []
      },
      "source": [
        "## Did you restart the runtime?\n",
        "\n",
        "If you are using Google Colab, the first time that you run the cell above, you must restart the runtime by clicking above \"RESTART RUNTIME\" button or using `\"Runtime > Restart runtime\"` menu. This is because of the way that Colab loads packages.\n",
        "\n",
        "*Let's check the TensorFlow and TFX library versions.*"
      ]
    },
    {
      "cell_type": "code",
      "execution_count": null,
      "metadata": {
        "id": "Hf5FbRzcfpMg",
        "tags": []
      },
      "outputs": [],
      "source": [
        "import os\n",
        "os.environ['TF_CPP_MIN_LOG_LEVEL'] = '2'\n",
        "import tensorflow as tf\n",
        "print('TensorFlow version: {}'.format(tf.__version__))\n",
        "from tfx import v1 as tfx\n",
        "print('TFX version: {}'.format(tfx.__version__))"
      ]
    },
    {
      "cell_type": "markdown",
      "metadata": {
        "id": "ng1a9cCAtepl"
      },
      "source": [
        "## Installing Interactive Context"
      ]
    },
    {
      "cell_type": "markdown",
      "metadata": {
        "id": "k7ikXCc7v7Rh"
      },
      "source": [
        "An interactive context is used to provide global context when running a TFX pipeline in a notebook without using a runner or orchestrator such as Apache Airflow or Kubeflow. This style of development is only useful when developing the code for a pipeline, and cannot currently be used to deploy a working pipeline to production."
      ]
    },
    {
      "cell_type": "code",
      "execution_count": null,
      "metadata": {
        "id": "TEge2nYDfwaM",
        "tags": []
      },
      "outputs": [],
      "source": [
        "from tfx.orchestration.experimental.interactive.interactive_context import InteractiveContext\n",
        "context = InteractiveContext()"
      ]
    },
    {
      "cell_type": "markdown",
      "metadata": {
        "id": "GF6Kk3MLxxCC"
      },
      "source": [
        "# Pipeline Overview\n",
        "\n",
        "Below are the components that this pipeline follows.\n",
        "\n",
        "* Custom Artifacts are artifacts that we have created for this pipeline. **Artifacts** are data that is produced by a component or consumed by a component. Artifacts are stored in a system for managing the storage and versioning of artifacts called MLMD.\n",
        "\n",
        "* **Components** are defined as the implementation of an ML task that you can use as a step in your pipeline\n",
        "* Aside from artifacts, **Parameters** are passed into the components to specify an argument.\n",
        "\n"
      ]
    },
    {
      "cell_type": "markdown",
      "metadata": {
        "id": "BIBO-ueGVVHa"
      },
      "source": [
        "# Create a TFDS ExampleGen\n",
        "We create a custom ExampleGen component which we use to load a TensorFlow Datasets (TFDS) dataset. This uses a custom executor in a FileBasedExampleGen.\n",
        "\n",
        "\n"
      ]
    },
    {
      "cell_type": "code",
      "execution_count": null,
      "metadata": {
        "id": "pgvIaoAmXFVp",
        "tags": []
      },
      "outputs": [],
      "source": [
        "from typing import Any, Dict, List, Text\n",
        "import tensorflow_datasets as tfds\n",
        "import apache_beam as beam\n",
        "import json\n",
        "from tfx.components.example_gen.base_example_gen_executor import BaseExampleGenExecutor\n",
        "from tfx.components.example_gen.component import FileBasedExampleGen\n",
        "from tfx.components.example_gen import utils\n",
        "from tfx.dsl.components.base import executor_spec\n",
        "import os\n",
        "import pprint\n",
        "pp = pprint.PrettyPrinter()"
      ]
    },
    {
      "cell_type": "code",
      "execution_count": null,
      "metadata": {
        "id": "Cjd9Z6SpVRCE",
        "tags": []
      },
      "outputs": [],
      "source": [
        "@beam.ptransform_fn\n",
        "@beam.typehints.with_input_types(beam.Pipeline)\n",
        "@beam.typehints.with_output_types(tf.train.Example)\n",
        "def _TFDatasetToExample(\n",
        "    pipeline: beam.Pipeline,\n",
        "    exec_properties: Dict[str, Any],\n",
        "    split_pattern: str\n",
        "    ) -> beam.pvalue.PCollection:\n",
        "    \"\"\"Read a TensorFlow Dataset and create tf.Examples\"\"\"\n",
        "    custom_config = json.loads(exec_properties['custom_config'])\n",
        "    dataset_name = custom_config['dataset']\n",
        "    split_name = custom_config['split']\n",
        "\n",
        "    builder = tfds.builder(dataset_name)\n",
        "    builder.download_and_prepare()\n",
        "\n",
        "    return (pipeline\n",
        "            | 'MakeExamples' >> tfds.beam.ReadFromTFDS(builder, split=split_name)\n",
        "            | 'AsNumpy' >> beam.Map(tfds.as_numpy)\n",
        "            | 'ToDict' >> beam.Map(dict)\n",
        "            | 'ToTFExample' >> beam.Map(utils.dict_to_example)\n",
        "            )\n",
        "\n",
        "class TFDSExecutor(BaseExampleGenExecutor):\n",
        "  def GetInputSourceToExamplePTransform(self) -> beam.PTransform:\n",
        "    \"\"\"Returns PTransform for TF Dataset to TF examples.\"\"\"\n",
        "    return _TFDatasetToExample"
      ]
    },
    {
      "cell_type": "markdown",
      "metadata": {
        "id": "2D159hAzJgK2"
      },
      "source": [
        "For example demostration, we are using 20% of multi_news dataset. We can play around with \"custom_config\" to take in more data or the whole dataset."
      ]
    },
    {
      "cell_type": "code",
      "execution_count": null,
      "metadata": {
        "id": "nNDu1ECBXuvI",
        "tags": []
      },
      "outputs": [],
      "source": [
        "example_gen = FileBasedExampleGen(\n",
        "    input_base='dummy',\n",
        "    custom_config={'dataset':'multi_news', 'split':'train[:20%]'},\n",
        "    custom_executor_spec=executor_spec.BeamExecutorSpec(TFDSExecutor))\n",
        "context.run(example_gen, enable_cache=False)"
      ]
    },
    {
      "cell_type": "markdown",
      "metadata": {
        "id": "74JGpvIgJgK2"
      },
      "source": [
        "We create a convenience utility to inspect datasets of TFExamples. The ratings dataset returns a dictionary of document and summary columns."
      ]
    },
    {
      "cell_type": "code",
      "execution_count": null,
      "metadata": {
        "id": "GA8VMXKogXxB",
        "tags": []
      },
      "outputs": [],
      "source": [
        "def inspect_examples(component,\n",
        "                     channel_name='examples',\n",
        "                     split_name='train',\n",
        "                     num_examples=1):\n",
        "  # Get the URI of the output artifact, which is a directory\n",
        "  full_split_name = 'Split-{}'.format(split_name)\n",
        "  print('channel_name: {}, split_name: {} (\\\"{}\\\"), num_examples: {}\\n'.format(\n",
        "      channel_name, split_name, full_split_name, num_examples))\n",
        "  train_uri = os.path.join(\n",
        "      component.outputs[channel_name].get()[0].uri, full_split_name)\n",
        "  print(train_uri)\n",
        "\n",
        "  # Get the list of files in this directory (all compressed TFRecord files)\n",
        "  tfrecord_filenames = [os.path.join(train_uri, name)\n",
        "                        for name in os.listdir(train_uri)]\n",
        "\n",
        "  # Create a `TFRecordDataset` to read these files\n",
        "  dataset = tf.data.TFRecordDataset(tfrecord_filenames, compression_type=\"GZIP\")\n",
        "\n",
        "  # Iterate over the records and print them\n",
        "  for tfrecord in dataset.take(num_examples):\n",
        "    serialized_example = tfrecord.numpy()\n",
        "    example = tf.train.Example()\n",
        "    example.ParseFromString(serialized_example)\n",
        "    pp.pprint(example)"
      ]
    },
    {
      "cell_type": "code",
      "execution_count": null,
      "metadata": {
        "id": "rcUvtz5egaIy",
        "tags": []
      },
      "outputs": [],
      "source": [
        "inspect_examples(example_gen, num_examples = 1, split_name = 'train')"
      ]
    },
    {
      "cell_type": "markdown",
      "metadata": {
        "id": "gVmx7JHK8RkO"
      },
      "source": [
        "# Statistics Generator\n",
        "\n",
        "`StatisticsGen` component computes statistics over your dataset for data analysis, such as the number of examples, the number of features, and the data types of the features. It uses the [TensorFlow Data Validation](https://www.tensorflow.org/tfx/data_validation/get_started) library. `StatisticsGen` takes as input the dataset we just ingested using `ExampleGen`.\n",
        "\n",
        "*Note that the statistics generator is appropriate for tabular data, and therefore, text dataset for this LLM tutorial may not be the optimal dataset for the analysis with statistics generator.*"
      ]
    },
    {
      "cell_type": "code",
      "execution_count": null,
      "metadata": {
        "id": "TzeNGNEnyq_d",
        "tags": []
      },
      "outputs": [],
      "source": [
        "from tfx.components import StatisticsGen"
      ]
    },
    {
      "cell_type": "code",
      "execution_count": null,
      "metadata": {
        "id": "xWWl7LeRKsXA",
        "tags": []
      },
      "outputs": [],
      "source": [
        "statistics_gen = tfx.components.StatisticsGen(\n",
        "    examples=example_gen.outputs['examples'], exclude_splits=['eval']\n",
        ")\n",
        "context.run(statistics_gen, enable_cache=False)"
      ]
    },
    {
      "cell_type": "code",
      "execution_count": null,
      "metadata": {
        "id": "LnWKjMyIVVB7"
      },
      "outputs": [],
      "source": [
        "context.show(statistics_gen.outputs['statistics'])"
      ]
    },
    {
      "cell_type": "markdown",
      "metadata": {
        "id": "oqXFJyoO9O8-"
      },
      "source": [
        "# SchemaGen\n",
        "\n",
        "The `SchemaGen` component generates a schema based on your data statistics. (A schema defines the expected bounds, types, and properties of the features in your dataset.) It also uses the [TensorFlow Data Validation](https://www.tensorflow.org/tfx/data_validation/get_started) library.\n",
        "\n",
        "Note: The generated schema is best-effort and only tries to infer basic properties of the data. It is expected that you review and modify it as needed.\n",
        "\n",
        "`SchemaGen` will take as input the statistics that we generated with `StatisticsGen`, looking at the training split by default.\n"
      ]
    },
    {
      "cell_type": "code",
      "execution_count": null,
      "metadata": {
        "id": "PpPFaV6tX5wQ",
        "tags": []
      },
      "outputs": [],
      "source": [
        "schema_gen = tfx.components.SchemaGen(\n",
        "    statistics=statistics_gen.outputs['statistics'],\n",
        "    infer_feature_shape=False,\n",
        "    exclude_splits=['eval'],\n",
        ")\n",
        "context.run(schema_gen, enable_cache=False)"
      ]
    },
    {
      "cell_type": "code",
      "execution_count": null,
      "metadata": {
        "id": "H6DNNUi3YAmo",
        "tags": []
      },
      "outputs": [],
      "source": [
        "context.show(schema_gen.outputs['schema'])"
      ]
    },
    {
      "cell_type": "markdown",
      "metadata": {
        "id": "GDdpADUb9VJR"
      },
      "source": [
        "# ExampleValidator\n",
        "\n",
        "The `ExampleValidator` component detects anomalies in your data, based on the expectations defined by the schema. It also uses the [TensorFlow Data Validation](https://www.tensorflow.org/tfx/data_validation/get_started) library.\n",
        "\n",
        "`ExampleValidator` will take as input the statistics from `StatisticsGen`, and the schema from `SchemaGen`."
      ]
    },
    {
      "cell_type": "code",
      "execution_count": null,
      "metadata": {
        "id": "S_F5pLZ7YdZg"
      },
      "outputs": [],
      "source": [
        "example_validator = tfx.components.ExampleValidator(\n",
        "    statistics=statistics_gen.outputs['statistics'],\n",
        "    schema=schema_gen.outputs['schema'],\n",
        "    exclude_splits=['eval'],\n",
        ")\n",
        "context.run(example_validator, enable_cache=False)"
      ]
    },
    {
      "cell_type": "markdown",
      "source": [
        "After `ExampleValidator` finishes running, we can visualize the anomalies as a table."
      ],
      "metadata": {
        "id": "DgiXSTRawolF"
      }
    },
    {
      "cell_type": "code",
      "execution_count": null,
      "metadata": {
        "id": "3eAHpc2UYfk_"
      },
      "outputs": [],
      "source": [
        "context.show(example_validator.outputs['anomalies'])"
      ]
    },
    {
      "cell_type": "markdown",
      "metadata": {
        "id": "7H6fecGTiFmN"
      },
      "source": [
        "# Transform\n",
        "\n",
        "For a structured and repeatable design of a TFX pipeline we will need a scalable approach to feature engineering. The `Transform` component performs feature engineering for both training and serving. It uses the [TensorFlow Transform](https://www.tensorflow.org/tfx/transform/get_started) library.\n",
        "\n",
        "\n",
        "The Transform component uses a module file to supply user code for the feature engineering what we want to do, so our first step is to create that module file. We will only be working with the summary field.\n",
        "\n",
        "**Note:**\n",
        "*The %%writefile {_movies_transform_module_file} cell magic below creates and writes the contents of that cell to a file on the notebook server where this notebook is running (for example, the Colab VM). When doing this outside of a notebook you would just create a Python file.*"
      ]
    },
    {
      "cell_type": "code",
      "execution_count": null,
      "metadata": {
        "id": "22TBUtG9ME9N"
      },
      "outputs": [],
      "source": [
        "import os\n",
        "if not os.path.exists(\"modules\"):\n",
        "  os.mkdir(\"modules\")"
      ]
    },
    {
      "cell_type": "code",
      "execution_count": null,
      "metadata": {
        "id": "teaCGLgfnjw_"
      },
      "outputs": [],
      "source": [
        "_transform_module_file = 'modules/_transform_module.py'"
      ]
    },
    {
      "cell_type": "code",
      "execution_count": null,
      "metadata": {
        "id": "rN6nRx3KnkpM"
      },
      "outputs": [],
      "source": [
        "%%writefile {_transform_module_file}\n",
        "\n",
        "import tensorflow as tf\n",
        "\n",
        "def _fill_in_missing(x, default_value):\n",
        "  \"\"\"Replace missing values in a SparseTensor.\n",
        "\n",
        "  Fills in missing values of `x` with the default_value.\n",
        "\n",
        "  Args:\n",
        "    x: A `SparseTensor` of rank 2.  Its dense shape should have size at most 1\n",
        "      in the second dimension.\n",
        "    default_value: the value with which to replace the missing values.\n",
        "\n",
        "  Returns:\n",
        "    A rank 1 tensor where missing values of `x` have been filled in.\n",
        "  \"\"\"\n",
        "  if not isinstance(x, tf.sparse.SparseTensor):\n",
        "    return x\n",
        "  return tf.squeeze(\n",
        "      tf.sparse.to_dense(\n",
        "          tf.SparseTensor(x.indices, x.values, [x.dense_shape[0], 1]),\n",
        "          default_value),\n",
        "      axis=1)\n",
        "\n",
        "def preprocessing_fn(inputs):\n",
        "\n",
        "  outputs = {}\n",
        "  outputs[\"summary\"] = _fill_in_missing(inputs[\"summary\"],\"\")\n",
        "  return outputs"
      ]
    },
    {
      "cell_type": "code",
      "execution_count": null,
      "metadata": {
        "id": "v-f5NaLTiFmO"
      },
      "outputs": [],
      "source": [
        "preprocessor = tfx.components.Transform(\n",
        "    examples=example_gen.outputs['examples'],\n",
        "    schema=schema_gen.outputs['schema'],\n",
        "    module_file=os.path.abspath(_transform_module_file))"
      ]
    },
    {
      "cell_type": "code",
      "execution_count": null,
      "metadata": {
        "id": "MkjIuwHeiFmO"
      },
      "outputs": [],
      "source": [
        "context.run(preprocessor, enable_cache=False)"
      ]
    },
    {
      "cell_type": "markdown",
      "metadata": {
        "id": "OH8OkaCwJgLF"
      },
      "source": [
        "Let's take a look at some of the transformed examples and check that they are indeed processed as intended."
      ]
    },
    {
      "cell_type": "code",
      "execution_count": null,
      "metadata": {
        "id": "bt70Z16zJHy7"
      },
      "outputs": [],
      "source": [
        "def pprint_examples(artifact, n_examples=2):\n",
        "  print(\"artifact:\", artifact)\n",
        "  uri = os.path.join(artifact.uri, \"Split-train\")\n",
        "  print(\"uri:\", uri)\n",
        "  tfrecord_filenames = [os.path.join(uri, name) for name in os.listdir(uri)]\n",
        "  print(\"tfrecord_filenames:\", tfrecord_filenames)\n",
        "  dataset = tf.data.TFRecordDataset(tfrecord_filenames, compression_type=\"GZIP\")\n",
        "  for tfrecord in dataset.take(n_examples):\n",
        "    serialized_example = tfrecord.numpy()\n",
        "    example = tf.train.Example.FromString(serialized_example)\n",
        "    pp.pprint(example)"
      ]
    },
    {
      "cell_type": "code",
      "execution_count": null,
      "metadata": {
        "id": "Tg4I-TvXJIuO"
      },
      "outputs": [],
      "source": [
        "pprint_examples(preprocessor.outputs['transformed_examples'].get()[0])"
      ]
    },
    {
      "cell_type": "markdown",
      "metadata": {
        "id": "mJll-vDn_eJP"
      },
      "source": [
        "# Trainer\n",
        "\n",
        "Trainer component trains an ML model, and it requires a model definition code from users.\n",
        "\n",
        "The `run_fn` function in TFX's Trainer component is the entry point for training a machine learning model. It is a user-supplied function that takes in a set of arguments and returns a model artifact.\n",
        "\n",
        "The `run_fn` function is responsible for:\n",
        "\n",
        "*   Building the machine learning model.\n",
        "*   Training the model on the training data.\n",
        "*   Saving the trained model to the serving model directory.\n",
        "\n",
        "\n",
        "## Write model training code\n",
        "We will create a very simple fine-tuned model, with the preprocessing GPT-2 model. First, we need to create a module that contains the run_fn function for TFX Trainer because TFX Trainer expects the run_fn function to be defined in a module.  "
      ]
    },
    {
      "cell_type": "code",
      "execution_count": null,
      "metadata": {
        "id": "OQPtqKG5pmpn"
      },
      "outputs": [],
      "source": [
        "model_file = \"modules/model.py\"\n",
        "model_fn = \"modules.model.run_fn\""
      ]
    },
    {
      "cell_type": "markdown",
      "metadata": {
        "id": "6drMNHJMAk7g"
      },
      "source": [
        "Now, we write the run_fn function:\n",
        "\n",
        "This run_fn function first gets the training data from the `fn_args.examples` argument. It then gets the schema of the training data from the `fn_args.schema` argument. Next, it loads finetuned GPT-2 model along with its preprocessor. The model is then trained on the training data using the model.train() method.\n",
        "Finally, the trained model weights are saved to the `fn_args.serving_model_dir` argument.\n",
        "\n",
        "\n",
        "Now, we are going to work with Keras NLP's GPT-2 Model! You can learn about the full GPT-2 model implementation in KerasNLP on [GitHub]((https://github.com/keras-team/keras-nlp/blob/master/keras_nlp/models/gpt2/) or can read (and interactively test the model) on [Google IO2023 colab notebook](https://colab.research.google.com/github/tensorflow/codelabs/blob/main/KerasNLP/io2023_workshop.ipynb#scrollTo=81EZQ0D1R8LL ).\n"
      ]
    },
    {
      "cell_type": "code",
      "execution_count": null,
      "metadata": {
        "id": "B-ME_d8i2sTB"
      },
      "outputs": [],
      "source": [
        "import keras_nlp\n",
        "from tensorflow import keras\n",
        "import tensorflow as tf"
      ]
    },
    {
      "cell_type": "code",
      "execution_count": null,
      "metadata": {
        "id": "N9yjLDqHoFb-"
      },
      "outputs": [],
      "source": [
        "%%writefile {model_file}\n",
        "\n",
        "import os\n",
        "import time\n",
        "from absl import logging\n",
        "import keras_nlp\n",
        "import more_itertools\n",
        "import pandas as pd\n",
        "import tensorflow as tf\n",
        "from tensorflow import keras\n",
        "import tfx\n",
        "import tfx.components.trainer.fn_args_utils\n",
        "import gc\n",
        "\n",
        "\n",
        "_EPOCH = 1\n",
        "_BATCH_SIZE = 20\n",
        "_INITIAL_LEARNING_RATE = 5e-5\n",
        "_END_LEARNING_RATE = 0.0\n",
        "\n",
        "\n",
        "def _input_fn(file_pattern: str) -> list:\n",
        "  \"\"\"Retrieves training data and returns a list of articles for training.\n",
        "\n",
        "  For each row in the TFRecordDataset, generated in the previous ExampleGen\n",
        "  component, create a new tf.train.Example object and parse the TFRecord into\n",
        "  the example object. Articles, which are initially in bytes objects, are\n",
        "  decoded into a string.\n",
        "\n",
        "  Args:\n",
        "    file_pattern: Path to the TFRecord file of the training dataset.\n",
        "\n",
        "  Returns:\n",
        "    A list of training articles.\n",
        "\n",
        "  Raises:\n",
        "    FileNotFoundError: If TFRecord dataset is not found in the file_pattern\n",
        "    directory.\n",
        "  \"\"\"\n",
        "\n",
        "  if os.path.basename(file_pattern) == '*':\n",
        "    file_loc = os.path.dirname(file_pattern)\n",
        "\n",
        "  else:\n",
        "    raise FileNotFoundError(\n",
        "        f\"There is no file in the current directory: '{file_pattern}.\"\n",
        "    )\n",
        "\n",
        "  file_paths = [os.path.join(file_loc, name) for name in os.listdir(file_loc)]\n",
        "  train_articles = []\n",
        "  parsed_dataset = tf.data.TFRecordDataset(file_paths, compression_type=\"GZIP\")\n",
        "  for raw_record in parsed_dataset:\n",
        "    example = tf.train.Example()\n",
        "    example.ParseFromString(raw_record.numpy())\n",
        "    train_articles.append(\n",
        "        example.features.feature[\"summary\"].bytes_list.value[0].decode('utf-8')\n",
        "    )\n",
        "  return train_articles\n",
        "\n",
        "def run_fn(fn_args: tfx.components.trainer.fn_args_utils.FnArgs) -> None:\n",
        "  \"\"\"Trains the model and outputs the trained model to a the desired location given by FnArgs.\n",
        "\n",
        "  Args:\n",
        "    FnArgs :  Args to pass to user defined training/tuning function(s)\n",
        "  \"\"\"\n",
        "\n",
        "  train_articles =  pd.Series(_input_fn(\n",
        "          fn_args.train_files[0],\n",
        "      ))\n",
        "  tf_train_ds = tf.data.Dataset.from_tensor_slices(train_articles)\n",
        "\n",
        "  gpt2_preprocessor = keras_nlp.models.GPT2CausalLMPreprocessor.from_preset(\n",
        "      'gpt2_base_en',\n",
        "      sequence_length=256,\n",
        "      add_end_token=True,\n",
        "  )\n",
        "  gpt2_lm = keras_nlp.models.GPT2CausalLM.from_preset(\n",
        "      'gpt2_base_en', preprocessor=gpt2_preprocessor\n",
        "  )\n",
        "\n",
        "  processed_ds = (\n",
        "      tf_train_ds.map(gpt2_preprocessor, tf.data.AUTOTUNE)\n",
        "      .batch(_BATCH_SIZE)\n",
        "      .cache()\n",
        "      .prefetch(tf.data.AUTOTUNE)\n",
        "  )\n",
        "\n",
        "  gpt2_lm.include_preprocessing = False\n",
        "\n",
        "  lr = tf.keras.optimizers.schedules.PolynomialDecay(\n",
        "      5e-5,\n",
        "      decay_steps=processed_ds.cardinality() * _EPOCH,\n",
        "      end_learning_rate=0.0,\n",
        "  )\n",
        "  loss = tf.keras.losses.SparseCategoricalCrossentropy(from_logits=True)\n",
        "\n",
        "  gpt2_lm.compile(\n",
        "      optimizer=keras.optimizers.experimental.Adam(lr),\n",
        "      loss=loss,\n",
        "      weighted_metrics=['accuracy'],\n",
        "  )\n",
        "\n",
        "  gpt2_lm.fit(processed_ds, epochs=_EPOCH)\n",
        "  if os.path.exists(fn_args.serving_model_dir):\n",
        "    os.rmdir(fn_args.serving_model_dir)\n",
        "  os.mkdir(fn_args.serving_model_dir)\n",
        "  gpt2_lm.backbone.save_weights(\n",
        "      filepath=os.path.join(fn_args.serving_model_dir, \"model_weights\"), save_format='tf'\n",
        "  )\n",
        "  del gpt2_lm, gpt2_preprocessor, processed_ds, tf_train_ds\n",
        "  gc.collect()"
      ]
    },
    {
      "cell_type": "code",
      "execution_count": null,
      "metadata": {
        "id": "bnbMFKqc5gfK"
      },
      "outputs": [],
      "source": [
        "trainer = tfx.components.Trainer(\n",
        "    run_fn=model_fn,\n",
        "    examples=preprocessor.outputs['transformed_examples'],\n",
        "    train_args=tfx.proto.TrainArgs(splits=['train']),\n",
        "    eval_args=tfx.proto.EvalArgs(splits=['train']),\n",
        "    schema=schema_gen.outputs['schema'],\n",
        ")"
      ]
    },
    {
      "cell_type": "code",
      "execution_count": null,
      "metadata": {
        "id": "COCqeu-8CyHN"
      },
      "outputs": [],
      "source": [
        "context.run(trainer, enable_cache=False)"
      ]
    },
    {
      "cell_type": "markdown",
      "metadata": {
        "id": "bVeAWg28KmG0"
      },
      "source": [
        "# TFLite Conversion  \n",
        "\n",
        "We can convert the pretrained model into a TFLite model, which is a specific type of model that is designed to be used on mobile and embedded devices.\n",
        "TFLite models are smaller and faster than their TensorFlow counterparts, making them ideal for use on devices with limited resources.\n",
        "\n",
        "We can optimize the model using quantization. TensorFlow Lite can be used to shrink down the model size and accelerate model inference by mapping an input of continuous values to a discrete set.\n",
        "\n",
        "In this notebook you will use the [post-training dynamic range quantization](https://www.tensorflow.org/lite/performance/post_training_quant) by setting the converter optimization flag to 'tf.lite.Optimize.DEFAULT'. The rest of the conversion process is the same as before.\n",
        "\n",
        "If you are interested in how TFLite works and would like to interactively work with it on colab notebook, you can explore this [Google IO2023 Colab Notebook](https://colab.research.google.com/github/tensorflow/codelabs/blob/main/KerasNLP/io2023_workshop.ipynb#scrollTo=ZVrW3jyVNEH9)"
      ]
    },
    {
      "cell_type": "markdown",
      "metadata": {
        "id": "RsZU7fM4LxJt"
      },
      "source": [
        "We will first create a TFLite artifact in order to save the TFLite model."
      ]
    },
    {
      "cell_type": "code",
      "execution_count": null,
      "metadata": {
        "id": "Mdbs7CirvTwA"
      },
      "outputs": [],
      "source": [
        "from tfx import types\n",
        "from tfx.types import artifact\n",
        "from enum import Enum\n",
        "\n",
        "Property = artifact.Property\n",
        "PropertyType = artifact.PropertyType\n",
        "\n",
        "\n",
        "DURATION_PROPERTY = Property(type=PropertyType.FLOAT)\n",
        "EPOCH_PROPERTY = Property(type=PropertyType.INT)\n",
        "SIZE_PROPERTY = Property(type=PropertyType.INT)\n",
        "QUANTIZED_PROPERTY = Property(type=PropertyType.STRING)\n",
        "\n",
        "class TFLite(types.Artifact):\n",
        "  \"\"\"Artifact that contains the trained model.\n",
        "\n",
        "  * Properties:\n",
        "    - `epoch`: The number of epochs it took to train the model.\n",
        "    - `model_size`: The size of the model\n",
        "    - `train_duration`: The total time elapsed for training and saving\n",
        "       the model in seconds.\n",
        "    - `is_quantized`: A boolean value indicating whether the model is the\n",
        "       quantized TFLite model or not.\n",
        "  \"\"\"\n",
        "\n",
        "  TYPE_NAME = 'TFLite'\n",
        "  PROPERTIES = {\n",
        "      'epoch': EPOCH_PROPERTY,\n",
        "      'model_size': SIZE_PROPERTY,\n",
        "      'conversion_duration': DURATION_PROPERTY,\n",
        "      'is_quantized': QUANTIZED_PROPERTY,\n",
        "        }"
      ]
    },
    {
      "cell_type": "markdown",
      "metadata": {
        "id": "_tw7jZQ2ATLV"
      },
      "source": [
        "We have to initialize the gpt-2 model to ensure that we are working with a base model."
      ]
    },
    {
      "cell_type": "code",
      "execution_count": null,
      "metadata": {
        "id": "rRgh6W3V5XoD"
      },
      "outputs": [],
      "source": [
        "gpt2_tokenizer = keras_nlp.models.GPT2Tokenizer.from_preset(\"gpt2_base_en\")\n",
        "gpt2_preprocessor = keras_nlp.models.GPT2CausalLMPreprocessor.from_preset(\n",
        "    \"gpt2_base_en\",\n",
        "    sequence_length=256,\n",
        "    add_end_token=True,\n",
        ")\n",
        "gpt2_lm = keras_nlp.models.GPT2CausalLM.from_preset(\"gpt2_base_en\", preprocessor=gpt2_preprocessor)"
      ]
    },
    {
      "cell_type": "markdown",
      "metadata": {
        "id": "yDVCfax9_7LF"
      },
      "source": [
        "First, you wrap the generate() function into a TensorFlow concrete function. The @tf.function decorator is used to convert a Python function to a TensorFlow graph function. This can improve the performance of the function by optimizing the TensorFlow operations that are executed.\n",
        "\n"
      ]
    },
    {
      "cell_type": "code",
      "execution_count": null,
      "metadata": {
        "id": "l8KegzORlszj"
      },
      "outputs": [],
      "source": [
        "@tf.function\n",
        "def generate(prompt, max_length):\n",
        "    return gpt2_lm.generate(prompt, max_length)\n",
        "\n",
        "concrete_func = generate.get_concrete_function(tf.TensorSpec([], tf.string), 100)"
      ]
    },
    {
      "cell_type": "code",
      "execution_count": null,
      "metadata": {
        "id": "2fVmWa-AvtnW"
      },
      "outputs": [],
      "source": [
        "\"\"\"A Conversion Component that transforms a trained model into TFLite Model.\n",
        "This is a conversion component that the users can specify whether the model will\n",
        "be quantized or not.\n",
        "\"\"\"\n",
        "import time\n",
        "\n",
        "@tfx.dsl.components.component\n",
        "def Conversion(\n",
        "    trained_model: tfx.dsl.components.InputArtifact[tfx.types.standard_artifacts.Model],\n",
        "    tflite_model: tfx.dsl.components.OutputArtifact[TFLite],\n",
        "    is_quantized: tfx.dsl.components.Parameter[bool]) -> None:\n",
        "\n",
        "    # Creating a tflite model for generate function\n",
        "    trained_model_dir = os.path.join(trained_model.uri,'Format-Serving', 'model_weights')\n",
        "    gpt2_lm.load_weights(trained_model_dir)\n",
        "    gpt2_lm.jit_compile = False\n",
        "    generate_converter = tf.lite.TFLiteConverter.from_concrete_functions([concrete_func],\n",
        "                                                            gpt2_lm)\n",
        "    generate_converter.target_spec.supported_ops = [\n",
        "        tf.lite.OpsSet.TFLITE_BUILTINS,  # enable TensorFlow Lite ops.\n",
        "        tf.lite.OpsSet.SELECT_TF_OPS,  # enable TensorFlow ops.\n",
        "    ]\n",
        "    generate_converter.allow_custom_ops = True\n",
        "    if is_quantized:\n",
        "      generate_converter.optimizations = [tf.lite.Optimize.DEFAULT]\n",
        "\n",
        "    generate_converter.target_spec.experimental_select_user_tf_ops = [\n",
        "        \"UnsortedSegmentJoin\",\n",
        "        \"UpperBound\",\n",
        "    ]\n",
        "    generate_converter._experimental_guarantee_all_funcs_one_use = True\n",
        "    start = time.time()\n",
        "    generate_tflite = generate_converter.convert()\n",
        "    end = time.time()\n",
        "    generate_path = os.path.join(tflite_model.uri, \"quantized_gpt2_generate.tflite\")\n",
        "    with open(generate_path, \"wb\") as f:\n",
        "      f.write(generate_tflite)\n",
        "    tflite_model.conversion_duration = end - start\n",
        "    tflite_model.model_size = os.path.getsize(generate_path)\n",
        "\n",
        "    # Creating a tflite model for Runner (needed for calculating perplexity)\n",
        "    runner_converter = tf.lite.TFLiteConverter.from_keras_model(gpt2_lm)\n",
        "    if is_quantized:\n",
        "      runner_converter.optimizations = [tf.lite.Optimize.DEFAULT]\n",
        "    runner_converter.target_spec.supported_ops = [\n",
        "      tf.lite.OpsSet.TFLITE_BUILTINS, # enable TensorFlow Lite ops.\n",
        "      tf.lite.OpsSet.SELECT_TF_OPS # enable TensorFlow ops.\n",
        "    ]\n",
        "    runner_converter.allow_custom_ops = True\n",
        "    runner_converter.target_spec.experimental_select_user_tf_ops = [\"UnsortedSegmentJoin\", \"UpperBound\"]\n",
        "    runner_converter._experimental_guarantee_all_funcs_one_use = True\n",
        "\n",
        "    runner_tflite = runner_converter.convert()\n",
        "    runner_path = os.path.join(tflite_model.uri, \"quantized_gpt2_runner.tflite\")\n",
        "    with open(runner_path, \"wb\") as f:\n",
        "      f.write(runner_tflite)\n",
        "    if is_quantized:\n",
        "      tflite_model.is_quantized = \"QUANTIZED\"\n",
        "    else:\n",
        "      tflite_model.is_quantized = \"UNQUANTIZED\""
      ]
    },
    {
      "cell_type": "markdown",
      "metadata": {
        "id": "ISMl74Tyxjxf"
      },
      "source": [
        "Similarly, let's convert the trained model into a TFLite model by running the Conversion component with parameter 'is_quantized' specified to False."
      ]
    },
    {
      "cell_type": "code",
      "execution_count": null,
      "metadata": {
        "id": "hpk788jnLdGX"
      },
      "outputs": [],
      "source": [
        "tflite_model = Conversion(trained_model = trainer.outputs['model'], is_quantized = False)"
      ]
    },
    {
      "cell_type": "code",
      "execution_count": null,
      "metadata": {
        "id": "qIshT5KMLhPG"
      },
      "outputs": [],
      "source": [
        "context.run(tflite_model, enable_cache = False)"
      ]
    },
    {
      "cell_type": "markdown",
      "metadata": {
        "id": "Mc76WRAmxXlu"
      },
      "source": [
        "Let's convert the trained model into a Quantized TFLite model by running the Conversion component with parameter 'is_quantized' specified to True."
      ]
    },
    {
      "cell_type": "code",
      "execution_count": null,
      "metadata": {
        "id": "FHdd-kn1wVem"
      },
      "outputs": [],
      "source": [
        "quantized_model = Conversion(trained_model = trainer.outputs['model'], is_quantized = True)"
      ]
    },
    {
      "cell_type": "code",
      "execution_count": null,
      "metadata": {
        "id": "PkE9Jr5Z7Knu"
      },
      "outputs": [],
      "source": [
        "context.run(quantized_model, enable_cache = False)"
      ]
    },
    {
      "cell_type": "markdown",
      "metadata": {
        "id": "btljwhMwWeQ9"
      },
      "source": [
        "# Inference and Evaluation\n",
        "\n",
        "Now that we have fine-tuned the model and converted them to a TFlite model, let's test these models to make inferences. We will create a EvaluationMetric artifact since we want to save the inference results.\n"
      ]
    },
    {
      "cell_type": "code",
      "execution_count": null,
      "metadata": {
        "id": "S79afpeeVkwc"
      },
      "outputs": [],
      "source": [
        "from tfx.types import artifact\n",
        "from tfx import types\n",
        "\n",
        "Property = artifact.Property\n",
        "PropertyType = artifact.PropertyType\n",
        "\n",
        "DURATION_PROPERTY = Property(type=PropertyType.FLOAT)\n",
        "EVAL_OUTPUT_PROPERTY = Property(type=PropertyType.STRING)\n",
        "\n",
        "class EvaluationMetric(types.Artifact):\n",
        "  \"\"\"Artifact that contains metrics for a model.\n",
        "\n",
        "  * Properties:\n",
        "\n",
        "     - 'model_prediction_time' : time it took for the model to make predictions\n",
        "     based on the input text.\n",
        "     - 'model_evaluation_output_path' : saves the path to the CSV file that\n",
        "     contains the model's prediction based on the testing inputs.\n",
        "  \"\"\"\n",
        "  TYPE_NAME = 'Evaluation_Metric'\n",
        "  PROPERTIES = {\n",
        "      'model_prediction_time': DURATION_PROPERTY,\n",
        "      'model_evaluation_output_path': EVAL_OUTPUT_PROPERTY,\n",
        "  }"
      ]
    },
    {
      "cell_type": "markdown",
      "metadata": {
        "id": "bg7X_S1lAL7b"
      },
      "source": [
        "Here, we are defining a helper function to run inference with a given input and a TFLite model. Note that here TensorFlow Text ops are registered as custom ops so that the interpreter can run smoothly.\n",
        "\n"
      ]
    },
    {
      "cell_type": "code",
      "execution_count": null,
      "metadata": {
        "id": "XSjmByAAM2OI"
      },
      "outputs": [],
      "source": [
        "from tensorflow.lite.python import interpreter\n",
        "import tensorflow_text as tf_text\n",
        "def run_inference(input, generator):\n",
        "  output = generator(prompt=np.array([input]))\n",
        "  output_text = output[\"output_0\"].item(0).decode('utf-8')\n",
        "  return output_text"
      ]
    },
    {
      "cell_type": "markdown",
      "metadata": {
        "id": "pZ8qyPV8cMZI"
      },
      "source": [
        "In order to produce logits with TFLite models, we need to create a separate interpreter such that takes in a TFLite model as input and returns an object defined as \"runner\" that we need later for comupting perplexity for tflite models.\n",
        "\n",
        "\n",
        "The function first creates an interpreter.InterpreterWithCustomOps object, which is a specialized interpreter that can run TFLite models that use custom TensorFlow ops. The interpreter.InterpreterWithCustomOps object is then configured to use the TFText ops.\n",
        "\n",
        "Next, the function resizes the input tensors to the specified size. This is necessary because the default size of input tensors in TFLite models is [1,1]. Finally, the function allocates the tensors in the interpreter and gets the signature list."
      ]
    },
    {
      "cell_type": "code",
      "execution_count": null,
      "metadata": {
        "id": "mGY9_xSywMVz"
      },
      "outputs": [],
      "source": [
        "from tensorflow.lite.python import interpreter\n",
        "def create_runner(tflite_model):\n",
        "  interp = interpreter.InterpreterWithCustomOps(\n",
        "      model_content=tflite_model,\n",
        "      custom_op_registerers=tf_text.tflite_registrar.SELECT_TFTEXT_OPS)\n",
        "\n",
        "  # Need to resize tensor inputs or they will be [1,1]!\n",
        "  interp.resize_tensor_input(0, (1,255))\n",
        "  interp.resize_tensor_input(1, (1,255))\n",
        "  interp.allocate_tensors()\n",
        "  interp.get_signature_list()\n",
        "  runner = interp.get_signature_runner('serving_default')\n",
        "  return runner"
      ]
    },
    {
      "cell_type": "markdown",
      "metadata": {
        "id": "GQ3Wq2Ylb6JF"
      },
      "source": [
        "Below are some helper functions for calculating perplexity, a measure of how well a language model predicts the next word in a sequence. It is calculated by taking the exponential of the negative log likelihood of the observed sequence. A lower perplexity score indicates that the model is more confident in its predictions, which makes it more likely that the model will perform better.\n",
        "\n",
        "\n"
      ]
    },
    {
      "cell_type": "code",
      "execution_count": null,
      "metadata": {
        "id": "tkXaZlsg38jI"
      },
      "outputs": [],
      "source": [
        "\"\"\"This is an evaluation component for the LLM pipeline takes in a\n",
        "standard trainer artifact and outputs a custom evaluation artifact.\n",
        "It displays the evaluation output in the colab notebook.\n",
        "\"\"\"\n",
        "import os\n",
        "import time\n",
        "import keras_nlp\n",
        "import numpy as np\n",
        "import pandas as pd\n",
        "import tensorflow as tf\n",
        "import tfx.v1 as tfx\n",
        "\n",
        "_TEST_SIZE = 2\n",
        "_INPUT_LENGTH = 25\n",
        "\n",
        "def input_fn(file_pattern: str) -> list:\n",
        "  \"\"\"Retrieves training data and returns a list of articles for training.\n",
        "\n",
        "  Args:\n",
        "    file_pattern: Path to the TFRecord file of the training dataset.\n",
        "\n",
        "  Returns:\n",
        "    A list of test articles\n",
        "\n",
        "  Raises:\n",
        "    FileNotFoundError: If the file path does not exist.\n",
        "  \"\"\"\n",
        "  if os.path.exists(file_pattern):\n",
        "    file_paths = [os.path.join(file_pattern, name) for name in os.listdir(file_pattern)]\n",
        "    test_articles = []\n",
        "    parsed_dataset = tf.data.TFRecordDataset(file_paths, compression_type=\"GZIP\")\n",
        "    for raw_record in parsed_dataset:\n",
        "      example = tf.train.Example()\n",
        "      example.ParseFromString(raw_record.numpy())\n",
        "      test_articles.append(\n",
        "          example.features.feature[\"summary\"].bytes_list.value[0].decode('utf-8')\n",
        "      )\n",
        "    return test_articles\n",
        "  else:\n",
        "    raise FileNotFoundError(f'File path \"{file_pattern}\" does not exist.')\n",
        "\n",
        "def trim_sentence(sentence: str, max_words: int = 20):\n",
        "  \"\"\"Trims the sentence to include up to the given number of words.\n",
        "\n",
        "  Args:\n",
        "    sentence: The sentence to trim.\n",
        "    max_words: The maximum number of words to include in the trimmed sentence.\n",
        "\n",
        "  Returns:\n",
        "    The trimmed sentence.\n",
        "  \"\"\"\n",
        "  words = sentence.split(' ')\n",
        "  if len(words) <= max_words:\n",
        "    return sentence\n",
        "  return ' '.join(words[:max_words])"
      ]
    },
    {
      "cell_type": "markdown",
      "metadata": {
        "id": "ypRrAQMpfEFd"
      },
      "source": [
        "![AcpmiifGWmRg4Uw.png](data:image/png;base64,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)"
      ]
    },
    {
      "cell_type": "markdown",
      "metadata": {
        "id": "yo5fvOa9GmzL"
      },
      "source": [
        "One of the useful metrics for evaluating a Large Language Model is **Perplexity**. Perplexity is a measure of how well a language model predicts the next token in a sequence. It is calculated by taking the exponentiation of the average negative log-likelihood of the next token. A lower perplexity score indicates that the language model is better at predicting the next token.\n",
        "\n",
        "This is the *formula* for calculating perplexity.\n",
        "\n",
        " $\\text{Perplexity} = \\exp(-1 * $ Average Negative Log Likelihood $) =\n",
        "  \\exp\\left(-\\frac{1}{T} \\sum_{t=1}^T \\log p(w_t | w_{<t})\\right)$.\n",
        "\n",
        "\n",
        "If you would like to explore how perplexity metrics work, you experiment on this[ colab notebook](https://colab.research.google.com/drive/18LKpcCwvQtfo_TbG2iMI3ru2QQ0HcQGp?usp=sharing)! You can experiment with computing perplexity for both base GPT-2 model and converted TFLite model. In this colab notebook, we calculate perplexity using [Keras_nlp's perplexity](https://keras.io/api/keras_nlp/metrics/perplexity/)."
      ]
    },
    {
      "cell_type": "markdown",
      "metadata": {
        "id": "kNfs9ZplgPAH"
      },
      "source": [
        "**Computing Perplexity for Base GPT-2 Model and Finetuned Model**\n",
        "\n",
        "The code below is the function will be used later in the notebook for computing perplexity for the base GPT-2 model and the finetuned model."
      ]
    },
    {
      "cell_type": "code",
      "execution_count": null,
      "metadata": {
        "id": "27iA8w6-GlSz"
      },
      "outputs": [],
      "source": [
        "def calculate_perplexity(gpt2_model, gpt2_tokenizer, sentence) -> int:\n",
        "  \"\"\"Calculates perplexity of a model given a sentence.\n",
        "\n",
        "  Args:\n",
        "    gpt_model: GPT-2 Language Model\n",
        "    sentence: Sentence that the model's perplexity is calculated upon.\n",
        "\n",
        "  Returns:\n",
        "    A perplexity score.\n",
        "  \"\"\"\n",
        "  # gpt2_tokenizer([sentence])[0] produces a tensor containing an array of tokens that form the sentence.\n",
        "  tokens = gpt2_tokenizer([sentence])[0].numpy()\n",
        "  # decoded_sentences is an array containing sentences that increase by one token in size.\n",
        "  # e.g. if tokens for a sentence \"I love dogs\" are [\"I\", \"love\", \"dogs\"], then decoded_sentences = [\"I love\", \"I love dogs\"]\n",
        "  decoded_sentences = [gpt2_tokenizer.detokenize([tokens[:i]])[0].numpy() for i in range(1, len(tokens))]\n",
        "  predictions = gpt2_model.predict(decoded_sentences)\n",
        "  logits = [predictions[i - 1][i] for i in range(1, len(tokens))]\n",
        "  target = tokens[1:].reshape(len(tokens) - 1, 1)\n",
        "  perplexity = keras_nlp.metrics.Perplexity(from_logits=True)\n",
        "  perplexity.update_state(target, logits)\n",
        "  result = perplexity.result()\n",
        "  return result.numpy()\n",
        "\n",
        "def average_perplexity(gpt2_model, gpt2_tokenizer, sentences):\n",
        "  perplexity_lst = [calculate_perplexity(gpt2_model, gpt2_tokenizer, sent) for sent in sentences]\n",
        "  return np.mean(perplexity_lst)"
      ]
    },
    {
      "cell_type": "markdown",
      "metadata": {
        "id": "1yUSevqBdCiA"
      },
      "source": [
        "**Computing Perplexity for TFLite Models**\n",
        "\n",
        "Similar to the code above for calculating perplexity for the base model and finetuned GPT-2 model, we also write a function that computes perplexity for TFlite models."
      ]
    },
    {
      "cell_type": "code",
      "execution_count": null,
      "metadata": {
        "id": "fisabLslwx2f"
      },
      "outputs": [],
      "source": [
        "def calculate_perplexity_tflite(sentence, runner, gpt2_tokenizer, gpt2_preprocessor):\n",
        "    \"\"\"Calculates perplexity of a TfLite model given a sentence.\n",
        "\n",
        "    Args:\n",
        "      sentence: Sentence that the model's perplexity is calculated upon.\n",
        "      runner: Object that can be used to run the TensorFlow model's serving_default signature.\n",
        "\n",
        "    Returns:\n",
        "      A perplexity score.\n",
        "    \"\"\"\n",
        "    # Tokenize and preprocess the sentence\n",
        "    tokenized_sentence = gpt2_tokenizer([sentence])[0].numpy()\n",
        "    ds = tf.data.Dataset.from_tensor_slices([sentence])\n",
        "    preprocessed_ds = ds.map(gpt2_preprocessor)\n",
        "    _, token_ids, padding_mask = next(iter(preprocessed_ds))\n",
        "\n",
        "    # Run the TensorFlow Lite model\n",
        "    tflite_result = runner(token_ids=tf.expand_dims(token_ids, axis=0), padding_mask=tf.expand_dims(tf.cast(padding_mask, tf.int32), axis=0))\n",
        "    prediction_key = list(tflite_result.keys())[0]\n",
        "    tflite_prediction = tflite_result[prediction_key]\n",
        "\n",
        "    # Extract logits for all tokens\n",
        "    logits = tflite_prediction[0][1:len(tokenized_sentence)]\n",
        "\n",
        "    # Target tokens excluding the first token\n",
        "    target = tokenized_sentence[1:].reshape(len(tokenized_sentence) - 1, 1)\n",
        "\n",
        "    # Calculate perplexity\n",
        "    perplexity = keras_nlp.metrics.Perplexity(from_logits=True)\n",
        "    perplexity.update_state(target, logits)\n",
        "    result = perplexity.result()\n",
        "\n",
        "    return result.numpy()\n",
        "\n",
        "def average_perplexity_tflite(sentences, runner):\n",
        "    gpt2_tokenizer = keras_nlp.models.GPT2Tokenizer.from_preset(\"gpt2_base_en\")\n",
        "    gpt2_preprocessor = keras_nlp.models.GPT2CausalLMPreprocessor.from_preset(\n",
        "        \"gpt2_base_en\",\n",
        "        sequence_length=256,\n",
        "        add_end_token=True,\n",
        "    )\n",
        "    perplexity_lst = [calculate_perplexity_tflite(sent, runner, gpt2_tokenizer, gpt2_preprocessor) for sent in sentences]\n",
        "    return np.mean(perplexity_lst)"
      ]
    },
    {
      "cell_type": "markdown",
      "metadata": {
        "id": "ELmkaY-ygbog"
      },
      "source": [
        "# Evaluator Component\n",
        "\n",
        "Now that we have all the helper functions required for the Evaluator component, we will define a evaluator component. Evaluator component makes inferences with base, fine-tuned, TFlite, and quantized models, calculates perplexity for all models, and also records inference time. Output of the evaluator component contains information useful for assessing each model."
      ]
    },
    {
      "cell_type": "code",
      "execution_count": null,
      "metadata": {
        "id": "Eb5fD5vzEQJ0"
      },
      "outputs": [],
      "source": [
        "@tfx.dsl.components.component\n",
        "def Evaluation(\n",
        "    examples: tfx.dsl.components.InputArtifact[\n",
        "        tfx.types.standard_artifacts.Examples\n",
        "    ],\n",
        "    trained_model: tfx.dsl.components.InputArtifact[\n",
        "        tfx.types.standard_artifacts.Model\n",
        "    ],\n",
        "    tflite_model: tfx.dsl.components.InputArtifact[TFLite],\n",
        "    quantized_model: tfx.dsl.components.InputArtifact[TFLite],\n",
        "    max_length: tfx.dsl.components.Parameter[int],\n",
        "    evaluation: tfx.dsl.components.OutputArtifact[EvaluationMetric],\n",
        ") -> None:\n",
        "  \"\"\"Makes inferences with base model, finetuned model, TFlite model, and quantized model.\n",
        "\n",
        "  Args:\n",
        "    examples: Standard TFX examples artifacts for retreiving test dataset.\n",
        "    trained_model: Standard TFX trained model artifact finetuned with Multi-News\n",
        "      dataset.\n",
        "    tflite_model: Unquantized TFLite model.\n",
        "    quantized_model: Quantized TFLite model.\n",
        "    max_length: Length of the text that the model generates given custom input\n",
        "      statements.\n",
        "    evaluation: An evaluation artifact that saves predicted outcomes of custom\n",
        "      inputs in a csv document and inference speed of the model.\n",
        "  \"\"\"\n",
        "  _TEST_SIZE = 10\n",
        "\n",
        "  path = os.path.join(examples.uri, 'Split-eval')\n",
        "  test_data = input_fn(path)\n",
        "  evaluation_inputs = [\n",
        "      trim_sentence(article, max_words=_INPUT_LENGTH)\n",
        "      for article in test_data[:_TEST_SIZE]\n",
        "  ]\n",
        "  true_test = [\n",
        "      trim_sentence(article, max_words=max_length)\n",
        "      for article in test_data[:_TEST_SIZE]\n",
        "  ]\n",
        "\n",
        "  # Loading base model, making inference, and calculating perplexity on the base model.\n",
        "  gpt2_preprocessor = keras_nlp.models.GPT2CausalLMPreprocessor.from_preset(\n",
        "      'gpt2_base_en',\n",
        "      sequence_length=256,\n",
        "      add_end_token=True,\n",
        "  )\n",
        "  gpt2_lm = keras_nlp.models.GPT2CausalLM.from_preset(\n",
        "      'gpt2_base_en', preprocessor=gpt2_preprocessor\n",
        "  )\n",
        "  gpt2_tokenizer = keras_nlp.models.GPT2Tokenizer.from_preset('gpt2_base_en')\n",
        "\n",
        "  base_average_perplexity = average_perplexity(\n",
        "      gpt2_lm, gpt2_tokenizer, true_test\n",
        "  )\n",
        "\n",
        "  start_base_model = time.time()\n",
        "  base_evaluation = [\n",
        "      gpt2_lm.generate(input, max_length).numpy().decode('utf-8')\n",
        "      for input in evaluation_inputs\n",
        "  ]\n",
        "  end_base_model = time.time()\n",
        "\n",
        "  # Loading finetuned model and making inferences with the finetuned model.\n",
        "  model_weights = os.path.join(\n",
        "      trained_model.uri, 'Format-Serving', 'model_weights'\n",
        "  )\n",
        "  gpt2_lm.load_weights(model_weights)\n",
        "\n",
        "  trained_model_average_perplexity = average_perplexity(\n",
        "      gpt2_lm, gpt2_tokenizer, true_test\n",
        "  )\n",
        "\n",
        "  start_trained = time.time()\n",
        "  trained_evaluation = [\n",
        "      gpt2_lm.generate(input, max_length).numpy().decode('utf-8')\n",
        "      for input in evaluation_inputs\n",
        "  ]\n",
        "  end_trained = time.time()\n",
        "\n",
        "  from tensorflow.lite.python import interpreter\n",
        "  # Loading TFLite model and making inference with TFLite model.\n",
        "  with open(\n",
        "      os.path.join(tflite_model.uri, 'quantized_gpt2_generate.tflite'), 'rb'\n",
        "  ) as generate_file:\n",
        "    tflite_model_generate = generate_file.read()\n",
        "  with open(\n",
        "      os.path.join(tflite_model.uri, 'quantized_gpt2_runner.tflite'), 'rb'\n",
        "  ) as runner_file:\n",
        "    tflite_model_runner_file = runner_file.read()\n",
        "  tflite_model_runner = create_runner(tflite_model_runner_file)\n",
        "\n",
        "  tflite_model_average_perplexity = average_perplexity_tflite(\n",
        "      true_test, tflite_model_runner\n",
        "  )\n",
        "\n",
        "  start_tflite = time.time()\n",
        "  interp = interpreter.InterpreterWithCustomOps(\n",
        "      model_content=tflite_model_generate,\n",
        "      custom_op_registerers=tf_text.tflite_registrar.SELECT_TFTEXT_OPS)\n",
        "  interp.get_signature_list()\n",
        "\n",
        "  generator = interp.get_signature_runner('serving_default')\n",
        "  tflite_evaluation = [\n",
        "      run_inference(input, generator) for input in evaluation_inputs\n",
        "  ]\n",
        "  end_tflite = time.time()\n",
        "\n",
        "  # Loading quantized model and making inference with Quantized model.\n",
        "  with open(\n",
        "      os.path.join(quantized_model.uri, 'quantized_gpt2_generate.tflite'), 'rb'\n",
        "  ) as generate_file:\n",
        "    quantized_model_generate = generate_file.read()\n",
        "  with open(\n",
        "      os.path.join(quantized_model.uri, 'quantized_gpt2_runner.tflite'), 'rb'\n",
        "  ) as runner_file:\n",
        "    quantized_model_runner_file = runner_file.read()\n",
        "  quantized_model_runner = create_runner(quantized_model_runner_file)\n",
        "\n",
        "  quantized_model_average_perplexity = average_perplexity_tflite(\n",
        "      true_test, quantized_model_runner\n",
        "  )\n",
        "\n",
        "  start_quantized = time.time()\n",
        "  interp = interpreter.InterpreterWithCustomOps(\n",
        "      model_content=quantized_model_generate,\n",
        "      custom_op_registerers=tf_text.tflite_registrar.SELECT_TFTEXT_OPS)\n",
        "  interp.get_signature_list()\n",
        "\n",
        "  generator = interp.get_signature_runner('serving_default')\n",
        "  quantized_evaluation = [\n",
        "      run_inference(input, generator)\n",
        "      for input in evaluation_inputs\n",
        "  ]\n",
        "  end_quantized = time.time()\n",
        "\n",
        "  # Building an inference table.\n",
        "  inference_data = {\n",
        "      'input': evaluation_inputs,\n",
        "      'actual_test_output': true_test,\n",
        "      'base_model_prediction': base_evaluation,\n",
        "      'trained_model_prediction': trained_evaluation,\n",
        "      'tflite_evaluation_prediction': tflite_evaluation,\n",
        "      'quantized_model_prediction': quantized_evaluation,\n",
        "  }\n",
        "\n",
        "  models = [\n",
        "      'Base Model',\n",
        "      'Finetuned Model',\n",
        "      'TFLite Model',\n",
        "      'Quantized Model',\n",
        "  ]\n",
        "  inference_time = [\n",
        "      (end_base_model - start_base_model),\n",
        "      (end_trained - start_trained),\n",
        "      (end_tflite - start_tflite),\n",
        "      (end_quantized - start_quantized),\n",
        "  ]\n",
        "  average_inference_time = [time / _TEST_SIZE for time in inference_time]\n",
        "  average_perplexity_lst = [\n",
        "      base_average_perplexity,\n",
        "      trained_model_average_perplexity,\n",
        "      tflite_model_average_perplexity,\n",
        "      quantized_model_average_perplexity,\n",
        "  ]\n",
        "  evaluation_data = {\n",
        "      'Model': models,\n",
        "      'Average Inference Time': average_inference_time,\n",
        "      'Average Perplexity': average_perplexity_lst,\n",
        "  }\n",
        "\n",
        "  # creating directory in examples artifact to save metric dataframes\n",
        "  metrics_path = os.path.join(examples.uri, 'metrics')\n",
        "  if not os.path.exists(metrics_path):\n",
        "      os.mkdir(metrics_path)\n",
        "\n",
        "  evaluation_df = pd.DataFrame(evaluation_data).set_index('Model').transpose()\n",
        "  evaluation_path = os.path.join(metrics_path, 'evaluation_output.csv')\n",
        "  evaluation_df.to_csv(evaluation_path, index=False)\n",
        "\n",
        "  inference_df = pd.DataFrame(inference_data)\n",
        "  inference_path = os.path.join(metrics_path, 'inference_output.csv')\n",
        "  inference_df.to_csv(inference_path, index=False)\n",
        "  evaluation.model_evaluation_output_path = inference_path"
      ]
    },
    {
      "cell_type": "code",
      "execution_count": null,
      "metadata": {
        "id": "UkC0RrleWP9O"
      },
      "outputs": [],
      "source": [
        "evaluation_model = Evaluation(examples = example_gen.outputs['examples'],  trained_model = trainer.outputs['model'], quantized_model = quantized_model.outputs['tflite_model'], tflite_model = tflite_model.outputs['tflite_model'], max_length = 100)"
      ]
    },
    {
      "cell_type": "code",
      "execution_count": null,
      "metadata": {
        "id": "KQQvbT96XXDT"
      },
      "outputs": [],
      "source": [
        "context.run(evaluation_model, enable_cache = False)"
      ]
    },
    {
      "cell_type": "markdown",
      "source": [
        "Once our evaluation component execution is completed, we will load the results and display them."
      ],
      "metadata": {
        "id": "EPKArU8f3FpD"
      }
    },
    {
      "cell_type": "code",
      "execution_count": null,
      "metadata": {
        "id": "NVv5F_Ok7Jss"
      },
      "outputs": [],
      "source": [
        "examples = example_gen.outputs['examples']\n",
        "evaluation_path = os.path.join(examples.get()[0].uri, 'metrics')\n",
        "inference_df = pd.read_csv(os.path.join(evaluation_path, 'inference_output.csv' ))\n",
        "evaluation_df = pd.read_csv(os.path.join(evaluation_path, 'evaluation_output.csv' ))"
      ]
    },
    {
      "cell_type": "code",
      "execution_count": null,
      "metadata": {
        "id": "XvtAnvrm6H-a"
      },
      "outputs": [],
      "source": [
        "from IPython import display\n",
        "display.display(display.HTML(inference_df.to_html()))\n",
        "display.display(display.HTML(evaluation_df.to_html()))"
      ]
    },
    {
      "cell_type": "markdown",
      "metadata": {
        "id": "RiCy6OQ7J3C5"
      },
      "source": [
        "# Running the Entire Pipeline"
      ]
    },
    {
      "cell_type": "markdown",
      "metadata": {
        "id": "kvYtjmkFHSxu"
      },
      "source": [
        "TFX supports multiple orchestrators to run pipelines. In this tutorial we will use LocalDagRunner which is included in the TFX Python package and runs pipelines on local environment. We often call TFX pipelines \"DAGs\" which stands for directed acyclic graph.\n",
        "\n",
        "LocalDagRunner provides fast iterations for development and debugging. TFX also supports other orchestrators including Kubeflow Pipelines and Apache Airflow which are suitable for production use cases. See [TFX on Cloud AI Platform Pipelines](https://www.tensorflow.org/tfx/tutorials/tfx/cloud-ai-platform-pipelines) or [TFX Airflow](https://www.tensorflow.org/tfx/tutorials/tfx/airflow_workshop) Tutorial to learn more about other orchestration systems.\n",
        "\n",
        "Now we create a LocalDagRunner and pass a Pipeline object created from the function we already defined. The pipeline runs directly and you can see logs for the progress of the pipeline including ML model training."
      ]
    },
    {
      "cell_type": "code",
      "execution_count": null,
      "metadata": {
        "id": "4FQgyxOQLn22"
      },
      "outputs": [],
      "source": [
        "import urllib.request\n",
        "import tempfile\n",
        "import os\n",
        "\n",
        "\n",
        "PIPELINE_NAME = \"tfx-llm-multi-news\"\n",
        "model_fn = \"modules.model.run_fn\"\n",
        "_transform_module_file = \"modules/_transform_module.py\"\n",
        "\n",
        "# Output directory to store artifacts generated from the pipeline.\n",
        "PIPELINE_ROOT = os.path.join('pipelines', PIPELINE_NAME)\n",
        "# Path to a SQLite DB file to use as an MLMD storage.\n",
        "METADATA_PATH = os.path.join('metadata', PIPELINE_NAME, 'metadata.db')\n",
        "# Output directory where created models from the pipeline will be exported.\n",
        "SERVING_MODEL_DIR = os.path.join('serving_model', PIPELINE_NAME)\n",
        "\n",
        "from absl import logging\n",
        "logging.set_verbosity(logging.INFO)  # Set default logging level."
      ]
    },
    {
      "cell_type": "markdown",
      "metadata": {
        "id": "Q8PG2V3RTrdG"
      },
      "source": [
        "**NOTE:** If you would like to create multiple objects from the same component (as in the case of creating tflite_model and quantized_model from Conversion component in this pipeline), you need to specify the object by '.with_id()'. An example of this practice is in the code below."
      ]
    },
    {
      "cell_type": "code",
      "execution_count": null,
      "metadata": {
        "id": "tgTwBpN-pe3_"
      },
      "outputs": [],
      "source": [
        "def _create_pipeline(\n",
        "    pipeline_name: str,\n",
        "    pipeline_root: str,\n",
        "    model_fn: str,\n",
        "    serving_model_dir: str,\n",
        "    metadata_path: str,\n",
        ") -> tfx.dsl.Pipeline:\n",
        "  \"\"\"Creates a Pipeline for Fine-Tuning and Converting an Large Language Model with TFX.\"\"\"\n",
        "\n",
        "  example_gen = FileBasedExampleGen(\n",
        "    input_base='dummy',\n",
        "    custom_config={'dataset':'multi_news', 'split':'train[:20%]'},\n",
        "    custom_executor_spec=executor_spec.BeamExecutorSpec(TFDSExecutor))\n",
        "\n",
        "  statistics_gen = tfx.components.StatisticsGen(\n",
        "      examples=example_gen.outputs['examples'], exclude_splits=['eval']\n",
        "  )\n",
        "\n",
        "  schema_gen = tfx.components.SchemaGen(\n",
        "      statistics=statistics_gen.outputs['statistics'],\n",
        "      infer_feature_shape=False,\n",
        "      exclude_splits=['eval'],\n",
        "  )\n",
        "\n",
        "  example_validator = tfx.components.ExampleValidator(\n",
        "      statistics=statistics_gen.outputs['statistics'],\n",
        "      schema=schema_gen.outputs['schema'],\n",
        "      exclude_splits=['eval'],\n",
        "  )\n",
        "\n",
        "  preprocessor = tfx.components.Transform(\n",
        "    examples=example_gen.outputs['examples'],\n",
        "    schema=schema_gen.outputs['schema'],\n",
        "    module_file= _transform_module_file,\n",
        "  )\n",
        "\n",
        "  trainer = tfx.components.Trainer(\n",
        "      run_fn=model_fn,\n",
        "      examples=example_gen.outputs['examples'],\n",
        "      train_args=tfx.proto.TrainArgs(splits=['train']),\n",
        "      eval_args=tfx.proto.EvalArgs(splits=['train']),\n",
        "      schema=schema_gen.outputs['schema'],\n",
        "  )\n",
        "\n",
        "  quantized_model = Conversion(\n",
        "      trained_model=trainer.outputs['model'], is_quantized=True\n",
        "  ).with_id('quantized model')\n",
        "\n",
        "  tflite_model = Conversion(\n",
        "      trained_model=trainer.outputs['model'], is_quantized=False\n",
        "  ).with_id('tflite model')\n",
        "\n",
        "  evaluation_model = Evaluation(\n",
        "      examples=example_gen.outputs['examples'],\n",
        "      trained_model=trainer.outputs['model'],\n",
        "      quantized_model=quantized_model.outputs['tflite_model'],\n",
        "      tflite_model=tflite_model.outputs['tflite_model'],\n",
        "      max_length=100,\n",
        "  )\n",
        "\n",
        "  # Following 9 components will be included in the pipeline.\n",
        "  components = [\n",
        "      example_gen,\n",
        "      statistics_gen,\n",
        "      schema_gen,\n",
        "      example_validator,\n",
        "      preprocessor,\n",
        "      trainer,\n",
        "      quantized_model,\n",
        "      tflite_model,\n",
        "      evaluation_model,\n",
        "  ]\n",
        "\n",
        "  return tfx.dsl.Pipeline(\n",
        "      pipeline_name=pipeline_name,\n",
        "      pipeline_root=pipeline_root,\n",
        "      metadata_connection_config=tfx.orchestration.metadata.sqlite_metadata_connection_config(\n",
        "          metadata_path\n",
        "      ),\n",
        "      components=components,\n",
        "  )"
      ]
    },
    {
      "cell_type": "code",
      "execution_count": null,
      "metadata": {
        "id": "DkgLXyZGJ9CO"
      },
      "outputs": [],
      "source": [
        "tfx.orchestration.LocalDagRunner().run(\n",
        "    _create_pipeline(\n",
        "        pipeline_name=PIPELINE_NAME,\n",
        "        pipeline_root=PIPELINE_ROOT,\n",
        "        model_fn=model_fn,\n",
        "        serving_model_dir=SERVING_MODEL_DIR,\n",
        "        metadata_path=METADATA_PATH,\n",
        "    )\n",
        ")"
      ]
    },
    {
      "cell_type": "markdown",
      "metadata": {
        "id": "Mo3Z08xzHa4G"
      },
      "source": [
        "You should see INFO:absl:Component Evaluation is finished.\" at the end of the logs if the pipeline finished successfully because evaluation component is the last component of the pipeline."
      ]
    }
  ]
}